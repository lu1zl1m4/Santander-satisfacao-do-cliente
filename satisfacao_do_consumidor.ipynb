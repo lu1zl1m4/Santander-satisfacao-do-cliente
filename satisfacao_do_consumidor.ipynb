{
 "cells": [
  {
   "cell_type": "markdown",
   "metadata": {},
   "source": [
    "# Satisfação do Consumidor - Santander\n",
    "\n",
    "O Projeto consiste na análise satisfação do consumidor quanto ao uso dos serviços santander."
   ]
  },
  {
   "cell_type": "code",
   "execution_count": 1,
   "metadata": {},
   "outputs": [],
   "source": [
    "# Importando Pacotes dos quais serão utilizados muitos recursos\n",
    "import pandas as pd\n",
    "import numpy as np\n",
    "import matplotlib.pyplot as plt\n",
    "\n",
    "# Plotando o gráfico em sua respectiva célula\n",
    "%matplotlib inline"
   ]
  },
  {
   "cell_type": "code",
   "execution_count": 2,
   "metadata": {},
   "outputs": [],
   "source": [
    "# Carregando dataset de treino e teste\n",
    "Santander_Train = pd.read_csv(\"train.csv\")\n",
    "Santander_Test = pd.read_csv(\"test.csv\")"
   ]
  },
  {
   "cell_type": "code",
   "execution_count": 3,
   "metadata": {},
   "outputs": [
    {
     "data": {
      "text/html": [
       "<div>\n",
       "<style scoped>\n",
       "    .dataframe tbody tr th:only-of-type {\n",
       "        vertical-align: middle;\n",
       "    }\n",
       "\n",
       "    .dataframe tbody tr th {\n",
       "        vertical-align: top;\n",
       "    }\n",
       "\n",
       "    .dataframe thead th {\n",
       "        text-align: right;\n",
       "    }\n",
       "</style>\n",
       "<table border=\"1\" class=\"dataframe\">\n",
       "  <thead>\n",
       "    <tr style=\"text-align: right;\">\n",
       "      <th></th>\n",
       "      <th>ID</th>\n",
       "      <th>var3</th>\n",
       "      <th>var15</th>\n",
       "      <th>imp_ent_var16_ult1</th>\n",
       "      <th>imp_op_var39_comer_ult1</th>\n",
       "      <th>imp_op_var39_comer_ult3</th>\n",
       "      <th>imp_op_var40_comer_ult1</th>\n",
       "      <th>imp_op_var40_comer_ult3</th>\n",
       "      <th>imp_op_var40_efect_ult1</th>\n",
       "      <th>imp_op_var40_efect_ult3</th>\n",
       "      <th>...</th>\n",
       "      <th>saldo_medio_var33_hace2</th>\n",
       "      <th>saldo_medio_var33_hace3</th>\n",
       "      <th>saldo_medio_var33_ult1</th>\n",
       "      <th>saldo_medio_var33_ult3</th>\n",
       "      <th>saldo_medio_var44_hace2</th>\n",
       "      <th>saldo_medio_var44_hace3</th>\n",
       "      <th>saldo_medio_var44_ult1</th>\n",
       "      <th>saldo_medio_var44_ult3</th>\n",
       "      <th>var38</th>\n",
       "      <th>TARGET</th>\n",
       "    </tr>\n",
       "  </thead>\n",
       "  <tbody>\n",
       "    <tr>\n",
       "      <th>0</th>\n",
       "      <td>1</td>\n",
       "      <td>2</td>\n",
       "      <td>23</td>\n",
       "      <td>0.0</td>\n",
       "      <td>0.0</td>\n",
       "      <td>0.0</td>\n",
       "      <td>0.0</td>\n",
       "      <td>0.0</td>\n",
       "      <td>0.0</td>\n",
       "      <td>0.0</td>\n",
       "      <td>...</td>\n",
       "      <td>0.0</td>\n",
       "      <td>0.0</td>\n",
       "      <td>0.0</td>\n",
       "      <td>0.0</td>\n",
       "      <td>0.0</td>\n",
       "      <td>0.0</td>\n",
       "      <td>0.0</td>\n",
       "      <td>0.0</td>\n",
       "      <td>39205.170000</td>\n",
       "      <td>0</td>\n",
       "    </tr>\n",
       "    <tr>\n",
       "      <th>1</th>\n",
       "      <td>3</td>\n",
       "      <td>2</td>\n",
       "      <td>34</td>\n",
       "      <td>0.0</td>\n",
       "      <td>0.0</td>\n",
       "      <td>0.0</td>\n",
       "      <td>0.0</td>\n",
       "      <td>0.0</td>\n",
       "      <td>0.0</td>\n",
       "      <td>0.0</td>\n",
       "      <td>...</td>\n",
       "      <td>0.0</td>\n",
       "      <td>0.0</td>\n",
       "      <td>0.0</td>\n",
       "      <td>0.0</td>\n",
       "      <td>0.0</td>\n",
       "      <td>0.0</td>\n",
       "      <td>0.0</td>\n",
       "      <td>0.0</td>\n",
       "      <td>49278.030000</td>\n",
       "      <td>0</td>\n",
       "    </tr>\n",
       "    <tr>\n",
       "      <th>2</th>\n",
       "      <td>4</td>\n",
       "      <td>2</td>\n",
       "      <td>23</td>\n",
       "      <td>0.0</td>\n",
       "      <td>0.0</td>\n",
       "      <td>0.0</td>\n",
       "      <td>0.0</td>\n",
       "      <td>0.0</td>\n",
       "      <td>0.0</td>\n",
       "      <td>0.0</td>\n",
       "      <td>...</td>\n",
       "      <td>0.0</td>\n",
       "      <td>0.0</td>\n",
       "      <td>0.0</td>\n",
       "      <td>0.0</td>\n",
       "      <td>0.0</td>\n",
       "      <td>0.0</td>\n",
       "      <td>0.0</td>\n",
       "      <td>0.0</td>\n",
       "      <td>67333.770000</td>\n",
       "      <td>0</td>\n",
       "    </tr>\n",
       "    <tr>\n",
       "      <th>3</th>\n",
       "      <td>8</td>\n",
       "      <td>2</td>\n",
       "      <td>37</td>\n",
       "      <td>0.0</td>\n",
       "      <td>195.0</td>\n",
       "      <td>195.0</td>\n",
       "      <td>0.0</td>\n",
       "      <td>0.0</td>\n",
       "      <td>0.0</td>\n",
       "      <td>0.0</td>\n",
       "      <td>...</td>\n",
       "      <td>0.0</td>\n",
       "      <td>0.0</td>\n",
       "      <td>0.0</td>\n",
       "      <td>0.0</td>\n",
       "      <td>0.0</td>\n",
       "      <td>0.0</td>\n",
       "      <td>0.0</td>\n",
       "      <td>0.0</td>\n",
       "      <td>64007.970000</td>\n",
       "      <td>0</td>\n",
       "    </tr>\n",
       "    <tr>\n",
       "      <th>4</th>\n",
       "      <td>10</td>\n",
       "      <td>2</td>\n",
       "      <td>39</td>\n",
       "      <td>0.0</td>\n",
       "      <td>0.0</td>\n",
       "      <td>0.0</td>\n",
       "      <td>0.0</td>\n",
       "      <td>0.0</td>\n",
       "      <td>0.0</td>\n",
       "      <td>0.0</td>\n",
       "      <td>...</td>\n",
       "      <td>0.0</td>\n",
       "      <td>0.0</td>\n",
       "      <td>0.0</td>\n",
       "      <td>0.0</td>\n",
       "      <td>0.0</td>\n",
       "      <td>0.0</td>\n",
       "      <td>0.0</td>\n",
       "      <td>0.0</td>\n",
       "      <td>117310.979016</td>\n",
       "      <td>0</td>\n",
       "    </tr>\n",
       "  </tbody>\n",
       "</table>\n",
       "<p>5 rows × 371 columns</p>\n",
       "</div>"
      ],
      "text/plain": [
       "   ID  var3  var15  imp_ent_var16_ult1  imp_op_var39_comer_ult1  \\\n",
       "0   1     2     23                 0.0                      0.0   \n",
       "1   3     2     34                 0.0                      0.0   \n",
       "2   4     2     23                 0.0                      0.0   \n",
       "3   8     2     37                 0.0                    195.0   \n",
       "4  10     2     39                 0.0                      0.0   \n",
       "\n",
       "   imp_op_var39_comer_ult3  imp_op_var40_comer_ult1  imp_op_var40_comer_ult3  \\\n",
       "0                      0.0                      0.0                      0.0   \n",
       "1                      0.0                      0.0                      0.0   \n",
       "2                      0.0                      0.0                      0.0   \n",
       "3                    195.0                      0.0                      0.0   \n",
       "4                      0.0                      0.0                      0.0   \n",
       "\n",
       "   imp_op_var40_efect_ult1  imp_op_var40_efect_ult3  ...  \\\n",
       "0                      0.0                      0.0  ...   \n",
       "1                      0.0                      0.0  ...   \n",
       "2                      0.0                      0.0  ...   \n",
       "3                      0.0                      0.0  ...   \n",
       "4                      0.0                      0.0  ...   \n",
       "\n",
       "   saldo_medio_var33_hace2  saldo_medio_var33_hace3  saldo_medio_var33_ult1  \\\n",
       "0                      0.0                      0.0                     0.0   \n",
       "1                      0.0                      0.0                     0.0   \n",
       "2                      0.0                      0.0                     0.0   \n",
       "3                      0.0                      0.0                     0.0   \n",
       "4                      0.0                      0.0                     0.0   \n",
       "\n",
       "   saldo_medio_var33_ult3  saldo_medio_var44_hace2  saldo_medio_var44_hace3  \\\n",
       "0                     0.0                      0.0                      0.0   \n",
       "1                     0.0                      0.0                      0.0   \n",
       "2                     0.0                      0.0                      0.0   \n",
       "3                     0.0                      0.0                      0.0   \n",
       "4                     0.0                      0.0                      0.0   \n",
       "\n",
       "   saldo_medio_var44_ult1  saldo_medio_var44_ult3          var38  TARGET  \n",
       "0                     0.0                     0.0   39205.170000       0  \n",
       "1                     0.0                     0.0   49278.030000       0  \n",
       "2                     0.0                     0.0   67333.770000       0  \n",
       "3                     0.0                     0.0   64007.970000       0  \n",
       "4                     0.0                     0.0  117310.979016       0  \n",
       "\n",
       "[5 rows x 371 columns]"
      ]
     },
     "execution_count": 3,
     "metadata": {},
     "output_type": "execute_result"
    }
   ],
   "source": [
    "# Visualizando os datasets\n",
    "# Treino\n",
    "Santander_Train.head()"
   ]
  },
  {
   "cell_type": "code",
   "execution_count": 4,
   "metadata": {},
   "outputs": [
    {
     "data": {
      "text/html": [
       "<div>\n",
       "<style scoped>\n",
       "    .dataframe tbody tr th:only-of-type {\n",
       "        vertical-align: middle;\n",
       "    }\n",
       "\n",
       "    .dataframe tbody tr th {\n",
       "        vertical-align: top;\n",
       "    }\n",
       "\n",
       "    .dataframe thead th {\n",
       "        text-align: right;\n",
       "    }\n",
       "</style>\n",
       "<table border=\"1\" class=\"dataframe\">\n",
       "  <thead>\n",
       "    <tr style=\"text-align: right;\">\n",
       "      <th></th>\n",
       "      <th>ID</th>\n",
       "      <th>var3</th>\n",
       "      <th>var15</th>\n",
       "      <th>imp_ent_var16_ult1</th>\n",
       "      <th>imp_op_var39_comer_ult1</th>\n",
       "      <th>imp_op_var39_comer_ult3</th>\n",
       "      <th>imp_op_var40_comer_ult1</th>\n",
       "      <th>imp_op_var40_comer_ult3</th>\n",
       "      <th>imp_op_var40_efect_ult1</th>\n",
       "      <th>imp_op_var40_efect_ult3</th>\n",
       "      <th>...</th>\n",
       "      <th>saldo_medio_var29_ult3</th>\n",
       "      <th>saldo_medio_var33_hace2</th>\n",
       "      <th>saldo_medio_var33_hace3</th>\n",
       "      <th>saldo_medio_var33_ult1</th>\n",
       "      <th>saldo_medio_var33_ult3</th>\n",
       "      <th>saldo_medio_var44_hace2</th>\n",
       "      <th>saldo_medio_var44_hace3</th>\n",
       "      <th>saldo_medio_var44_ult1</th>\n",
       "      <th>saldo_medio_var44_ult3</th>\n",
       "      <th>var38</th>\n",
       "    </tr>\n",
       "  </thead>\n",
       "  <tbody>\n",
       "    <tr>\n",
       "      <th>0</th>\n",
       "      <td>2</td>\n",
       "      <td>2</td>\n",
       "      <td>32</td>\n",
       "      <td>0.0</td>\n",
       "      <td>0.0</td>\n",
       "      <td>0.0</td>\n",
       "      <td>0.0</td>\n",
       "      <td>0.0</td>\n",
       "      <td>0.0</td>\n",
       "      <td>0.0</td>\n",
       "      <td>...</td>\n",
       "      <td>0.0</td>\n",
       "      <td>0.0</td>\n",
       "      <td>0.0</td>\n",
       "      <td>0.0</td>\n",
       "      <td>0.0</td>\n",
       "      <td>0.0</td>\n",
       "      <td>0.0</td>\n",
       "      <td>0.0</td>\n",
       "      <td>0.0</td>\n",
       "      <td>40532.10</td>\n",
       "    </tr>\n",
       "    <tr>\n",
       "      <th>1</th>\n",
       "      <td>5</td>\n",
       "      <td>2</td>\n",
       "      <td>35</td>\n",
       "      <td>0.0</td>\n",
       "      <td>0.0</td>\n",
       "      <td>0.0</td>\n",
       "      <td>0.0</td>\n",
       "      <td>0.0</td>\n",
       "      <td>0.0</td>\n",
       "      <td>0.0</td>\n",
       "      <td>...</td>\n",
       "      <td>0.0</td>\n",
       "      <td>0.0</td>\n",
       "      <td>0.0</td>\n",
       "      <td>0.0</td>\n",
       "      <td>0.0</td>\n",
       "      <td>0.0</td>\n",
       "      <td>0.0</td>\n",
       "      <td>0.0</td>\n",
       "      <td>0.0</td>\n",
       "      <td>45486.72</td>\n",
       "    </tr>\n",
       "    <tr>\n",
       "      <th>2</th>\n",
       "      <td>6</td>\n",
       "      <td>2</td>\n",
       "      <td>23</td>\n",
       "      <td>0.0</td>\n",
       "      <td>0.0</td>\n",
       "      <td>0.0</td>\n",
       "      <td>0.0</td>\n",
       "      <td>0.0</td>\n",
       "      <td>0.0</td>\n",
       "      <td>0.0</td>\n",
       "      <td>...</td>\n",
       "      <td>0.0</td>\n",
       "      <td>0.0</td>\n",
       "      <td>0.0</td>\n",
       "      <td>0.0</td>\n",
       "      <td>0.0</td>\n",
       "      <td>0.0</td>\n",
       "      <td>0.0</td>\n",
       "      <td>0.0</td>\n",
       "      <td>0.0</td>\n",
       "      <td>46993.95</td>\n",
       "    </tr>\n",
       "    <tr>\n",
       "      <th>3</th>\n",
       "      <td>7</td>\n",
       "      <td>2</td>\n",
       "      <td>24</td>\n",
       "      <td>0.0</td>\n",
       "      <td>0.0</td>\n",
       "      <td>0.0</td>\n",
       "      <td>0.0</td>\n",
       "      <td>0.0</td>\n",
       "      <td>0.0</td>\n",
       "      <td>0.0</td>\n",
       "      <td>...</td>\n",
       "      <td>0.0</td>\n",
       "      <td>0.0</td>\n",
       "      <td>0.0</td>\n",
       "      <td>0.0</td>\n",
       "      <td>0.0</td>\n",
       "      <td>0.0</td>\n",
       "      <td>0.0</td>\n",
       "      <td>0.0</td>\n",
       "      <td>0.0</td>\n",
       "      <td>187898.61</td>\n",
       "    </tr>\n",
       "    <tr>\n",
       "      <th>4</th>\n",
       "      <td>9</td>\n",
       "      <td>2</td>\n",
       "      <td>23</td>\n",
       "      <td>0.0</td>\n",
       "      <td>0.0</td>\n",
       "      <td>0.0</td>\n",
       "      <td>0.0</td>\n",
       "      <td>0.0</td>\n",
       "      <td>0.0</td>\n",
       "      <td>0.0</td>\n",
       "      <td>...</td>\n",
       "      <td>0.0</td>\n",
       "      <td>0.0</td>\n",
       "      <td>0.0</td>\n",
       "      <td>0.0</td>\n",
       "      <td>0.0</td>\n",
       "      <td>0.0</td>\n",
       "      <td>0.0</td>\n",
       "      <td>0.0</td>\n",
       "      <td>0.0</td>\n",
       "      <td>73649.73</td>\n",
       "    </tr>\n",
       "  </tbody>\n",
       "</table>\n",
       "<p>5 rows × 370 columns</p>\n",
       "</div>"
      ],
      "text/plain": [
       "   ID  var3  var15  imp_ent_var16_ult1  imp_op_var39_comer_ult1  \\\n",
       "0   2     2     32                 0.0                      0.0   \n",
       "1   5     2     35                 0.0                      0.0   \n",
       "2   6     2     23                 0.0                      0.0   \n",
       "3   7     2     24                 0.0                      0.0   \n",
       "4   9     2     23                 0.0                      0.0   \n",
       "\n",
       "   imp_op_var39_comer_ult3  imp_op_var40_comer_ult1  imp_op_var40_comer_ult3  \\\n",
       "0                      0.0                      0.0                      0.0   \n",
       "1                      0.0                      0.0                      0.0   \n",
       "2                      0.0                      0.0                      0.0   \n",
       "3                      0.0                      0.0                      0.0   \n",
       "4                      0.0                      0.0                      0.0   \n",
       "\n",
       "   imp_op_var40_efect_ult1  imp_op_var40_efect_ult3  ...  \\\n",
       "0                      0.0                      0.0  ...   \n",
       "1                      0.0                      0.0  ...   \n",
       "2                      0.0                      0.0  ...   \n",
       "3                      0.0                      0.0  ...   \n",
       "4                      0.0                      0.0  ...   \n",
       "\n",
       "   saldo_medio_var29_ult3  saldo_medio_var33_hace2  saldo_medio_var33_hace3  \\\n",
       "0                     0.0                      0.0                      0.0   \n",
       "1                     0.0                      0.0                      0.0   \n",
       "2                     0.0                      0.0                      0.0   \n",
       "3                     0.0                      0.0                      0.0   \n",
       "4                     0.0                      0.0                      0.0   \n",
       "\n",
       "   saldo_medio_var33_ult1  saldo_medio_var33_ult3  saldo_medio_var44_hace2  \\\n",
       "0                     0.0                     0.0                      0.0   \n",
       "1                     0.0                     0.0                      0.0   \n",
       "2                     0.0                     0.0                      0.0   \n",
       "3                     0.0                     0.0                      0.0   \n",
       "4                     0.0                     0.0                      0.0   \n",
       "\n",
       "   saldo_medio_var44_hace3  saldo_medio_var44_ult1  saldo_medio_var44_ult3  \\\n",
       "0                      0.0                     0.0                     0.0   \n",
       "1                      0.0                     0.0                     0.0   \n",
       "2                      0.0                     0.0                     0.0   \n",
       "3                      0.0                     0.0                     0.0   \n",
       "4                      0.0                     0.0                     0.0   \n",
       "\n",
       "       var38  \n",
       "0   40532.10  \n",
       "1   45486.72  \n",
       "2   46993.95  \n",
       "3  187898.61  \n",
       "4   73649.73  \n",
       "\n",
       "[5 rows x 370 columns]"
      ]
     },
     "execution_count": 4,
     "metadata": {},
     "output_type": "execute_result"
    }
   ],
   "source": [
    "# Teste\n",
    "Santander_Test.head()"
   ]
  },
  {
   "cell_type": "code",
   "execution_count": 5,
   "metadata": {},
   "outputs": [
    {
     "data": {
      "text/plain": [
       "ID                           int64\n",
       "var3                         int64\n",
       "var15                        int64\n",
       "imp_ent_var16_ult1         float64\n",
       "imp_op_var39_comer_ult1    float64\n",
       "                            ...   \n",
       "saldo_medio_var44_hace3    float64\n",
       "saldo_medio_var44_ult1     float64\n",
       "saldo_medio_var44_ult3     float64\n",
       "var38                      float64\n",
       "TARGET                       int64\n",
       "Length: 371, dtype: object"
      ]
     },
     "execution_count": 5,
     "metadata": {},
     "output_type": "execute_result"
    }
   ],
   "source": [
    "# O tipo de dado das colunas (todos numéricos)\n",
    "Santander_Train.dtypes"
   ]
  },
  {
   "cell_type": "code",
   "execution_count": 6,
   "metadata": {},
   "outputs": [
    {
     "data": {
      "text/plain": [
       "(76020, 371)"
      ]
     },
     "execution_count": 6,
     "metadata": {},
     "output_type": "execute_result"
    }
   ],
   "source": [
    "# Quantidade de linhas e colunas\n",
    "Santander_Train.shape"
   ]
  },
  {
   "cell_type": "code",
   "execution_count": 7,
   "metadata": {},
   "outputs": [
    {
     "data": {
      "text/plain": [
       "(75818, 370)"
      ]
     },
     "execution_count": 7,
     "metadata": {},
     "output_type": "execute_result"
    }
   ],
   "source": [
    "# Quantidade de linhas e colunas\n",
    "Santander_Test.shape"
   ]
  },
  {
   "cell_type": "code",
   "execution_count": 8,
   "metadata": {},
   "outputs": [
    {
     "data": {
      "text/html": [
       "<div>\n",
       "<style scoped>\n",
       "    .dataframe tbody tr th:only-of-type {\n",
       "        vertical-align: middle;\n",
       "    }\n",
       "\n",
       "    .dataframe tbody tr th {\n",
       "        vertical-align: top;\n",
       "    }\n",
       "\n",
       "    .dataframe thead th {\n",
       "        text-align: right;\n",
       "    }\n",
       "</style>\n",
       "<table border=\"1\" class=\"dataframe\">\n",
       "  <thead>\n",
       "    <tr style=\"text-align: right;\">\n",
       "      <th></th>\n",
       "      <th>ID</th>\n",
       "      <th>var3</th>\n",
       "      <th>var15</th>\n",
       "      <th>imp_ent_var16_ult1</th>\n",
       "      <th>imp_op_var39_comer_ult1</th>\n",
       "      <th>imp_op_var39_comer_ult3</th>\n",
       "      <th>imp_op_var40_comer_ult1</th>\n",
       "      <th>imp_op_var40_comer_ult3</th>\n",
       "      <th>imp_op_var40_efect_ult1</th>\n",
       "      <th>imp_op_var40_efect_ult3</th>\n",
       "      <th>...</th>\n",
       "      <th>saldo_medio_var33_hace2</th>\n",
       "      <th>saldo_medio_var33_hace3</th>\n",
       "      <th>saldo_medio_var33_ult1</th>\n",
       "      <th>saldo_medio_var33_ult3</th>\n",
       "      <th>saldo_medio_var44_hace2</th>\n",
       "      <th>saldo_medio_var44_hace3</th>\n",
       "      <th>saldo_medio_var44_ult1</th>\n",
       "      <th>saldo_medio_var44_ult3</th>\n",
       "      <th>var38</th>\n",
       "      <th>TARGET</th>\n",
       "    </tr>\n",
       "  </thead>\n",
       "  <tbody>\n",
       "    <tr>\n",
       "      <th>count</th>\n",
       "      <td>76020.000000</td>\n",
       "      <td>76020.000000</td>\n",
       "      <td>76020.000000</td>\n",
       "      <td>76020.000000</td>\n",
       "      <td>76020.000000</td>\n",
       "      <td>76020.000000</td>\n",
       "      <td>76020.000000</td>\n",
       "      <td>76020.000000</td>\n",
       "      <td>76020.000000</td>\n",
       "      <td>76020.000000</td>\n",
       "      <td>...</td>\n",
       "      <td>76020.000000</td>\n",
       "      <td>76020.000000</td>\n",
       "      <td>76020.000000</td>\n",
       "      <td>76020.000000</td>\n",
       "      <td>76020.000000</td>\n",
       "      <td>76020.000000</td>\n",
       "      <td>76020.000000</td>\n",
       "      <td>76020.000000</td>\n",
       "      <td>7.602000e+04</td>\n",
       "      <td>76020.000000</td>\n",
       "    </tr>\n",
       "    <tr>\n",
       "      <th>mean</th>\n",
       "      <td>75964.050723</td>\n",
       "      <td>-1523.199277</td>\n",
       "      <td>33.212865</td>\n",
       "      <td>86.208265</td>\n",
       "      <td>72.363067</td>\n",
       "      <td>119.529632</td>\n",
       "      <td>3.559130</td>\n",
       "      <td>6.472698</td>\n",
       "      <td>0.412946</td>\n",
       "      <td>0.567352</td>\n",
       "      <td>...</td>\n",
       "      <td>7.935824</td>\n",
       "      <td>1.365146</td>\n",
       "      <td>12.215580</td>\n",
       "      <td>8.784074</td>\n",
       "      <td>31.505324</td>\n",
       "      <td>1.858575</td>\n",
       "      <td>76.026165</td>\n",
       "      <td>56.614351</td>\n",
       "      <td>1.172358e+05</td>\n",
       "      <td>0.039569</td>\n",
       "    </tr>\n",
       "    <tr>\n",
       "      <th>std</th>\n",
       "      <td>43781.947379</td>\n",
       "      <td>39033.462364</td>\n",
       "      <td>12.956486</td>\n",
       "      <td>1614.757313</td>\n",
       "      <td>339.315831</td>\n",
       "      <td>546.266294</td>\n",
       "      <td>93.155749</td>\n",
       "      <td>153.737066</td>\n",
       "      <td>30.604864</td>\n",
       "      <td>36.513513</td>\n",
       "      <td>...</td>\n",
       "      <td>455.887218</td>\n",
       "      <td>113.959637</td>\n",
       "      <td>783.207399</td>\n",
       "      <td>538.439211</td>\n",
       "      <td>2013.125393</td>\n",
       "      <td>147.786584</td>\n",
       "      <td>4040.337842</td>\n",
       "      <td>2852.579397</td>\n",
       "      <td>1.826646e+05</td>\n",
       "      <td>0.194945</td>\n",
       "    </tr>\n",
       "    <tr>\n",
       "      <th>min</th>\n",
       "      <td>1.000000</td>\n",
       "      <td>-999999.000000</td>\n",
       "      <td>5.000000</td>\n",
       "      <td>0.000000</td>\n",
       "      <td>0.000000</td>\n",
       "      <td>0.000000</td>\n",
       "      <td>0.000000</td>\n",
       "      <td>0.000000</td>\n",
       "      <td>0.000000</td>\n",
       "      <td>0.000000</td>\n",
       "      <td>...</td>\n",
       "      <td>0.000000</td>\n",
       "      <td>0.000000</td>\n",
       "      <td>0.000000</td>\n",
       "      <td>0.000000</td>\n",
       "      <td>0.000000</td>\n",
       "      <td>0.000000</td>\n",
       "      <td>0.000000</td>\n",
       "      <td>0.000000</td>\n",
       "      <td>5.163750e+03</td>\n",
       "      <td>0.000000</td>\n",
       "    </tr>\n",
       "    <tr>\n",
       "      <th>25%</th>\n",
       "      <td>38104.750000</td>\n",
       "      <td>2.000000</td>\n",
       "      <td>23.000000</td>\n",
       "      <td>0.000000</td>\n",
       "      <td>0.000000</td>\n",
       "      <td>0.000000</td>\n",
       "      <td>0.000000</td>\n",
       "      <td>0.000000</td>\n",
       "      <td>0.000000</td>\n",
       "      <td>0.000000</td>\n",
       "      <td>...</td>\n",
       "      <td>0.000000</td>\n",
       "      <td>0.000000</td>\n",
       "      <td>0.000000</td>\n",
       "      <td>0.000000</td>\n",
       "      <td>0.000000</td>\n",
       "      <td>0.000000</td>\n",
       "      <td>0.000000</td>\n",
       "      <td>0.000000</td>\n",
       "      <td>6.787061e+04</td>\n",
       "      <td>0.000000</td>\n",
       "    </tr>\n",
       "    <tr>\n",
       "      <th>50%</th>\n",
       "      <td>76043.000000</td>\n",
       "      <td>2.000000</td>\n",
       "      <td>28.000000</td>\n",
       "      <td>0.000000</td>\n",
       "      <td>0.000000</td>\n",
       "      <td>0.000000</td>\n",
       "      <td>0.000000</td>\n",
       "      <td>0.000000</td>\n",
       "      <td>0.000000</td>\n",
       "      <td>0.000000</td>\n",
       "      <td>...</td>\n",
       "      <td>0.000000</td>\n",
       "      <td>0.000000</td>\n",
       "      <td>0.000000</td>\n",
       "      <td>0.000000</td>\n",
       "      <td>0.000000</td>\n",
       "      <td>0.000000</td>\n",
       "      <td>0.000000</td>\n",
       "      <td>0.000000</td>\n",
       "      <td>1.064092e+05</td>\n",
       "      <td>0.000000</td>\n",
       "    </tr>\n",
       "    <tr>\n",
       "      <th>75%</th>\n",
       "      <td>113748.750000</td>\n",
       "      <td>2.000000</td>\n",
       "      <td>40.000000</td>\n",
       "      <td>0.000000</td>\n",
       "      <td>0.000000</td>\n",
       "      <td>0.000000</td>\n",
       "      <td>0.000000</td>\n",
       "      <td>0.000000</td>\n",
       "      <td>0.000000</td>\n",
       "      <td>0.000000</td>\n",
       "      <td>...</td>\n",
       "      <td>0.000000</td>\n",
       "      <td>0.000000</td>\n",
       "      <td>0.000000</td>\n",
       "      <td>0.000000</td>\n",
       "      <td>0.000000</td>\n",
       "      <td>0.000000</td>\n",
       "      <td>0.000000</td>\n",
       "      <td>0.000000</td>\n",
       "      <td>1.187563e+05</td>\n",
       "      <td>0.000000</td>\n",
       "    </tr>\n",
       "    <tr>\n",
       "      <th>max</th>\n",
       "      <td>151838.000000</td>\n",
       "      <td>238.000000</td>\n",
       "      <td>105.000000</td>\n",
       "      <td>210000.000000</td>\n",
       "      <td>12888.030000</td>\n",
       "      <td>21024.810000</td>\n",
       "      <td>8237.820000</td>\n",
       "      <td>11073.570000</td>\n",
       "      <td>6600.000000</td>\n",
       "      <td>6600.000000</td>\n",
       "      <td>...</td>\n",
       "      <td>50003.880000</td>\n",
       "      <td>20385.720000</td>\n",
       "      <td>138831.630000</td>\n",
       "      <td>91778.730000</td>\n",
       "      <td>438329.220000</td>\n",
       "      <td>24650.010000</td>\n",
       "      <td>681462.900000</td>\n",
       "      <td>397884.300000</td>\n",
       "      <td>2.203474e+07</td>\n",
       "      <td>1.000000</td>\n",
       "    </tr>\n",
       "  </tbody>\n",
       "</table>\n",
       "<p>8 rows × 371 columns</p>\n",
       "</div>"
      ],
      "text/plain": [
       "                  ID           var3         var15  imp_ent_var16_ult1  \\\n",
       "count   76020.000000   76020.000000  76020.000000        76020.000000   \n",
       "mean    75964.050723   -1523.199277     33.212865           86.208265   \n",
       "std     43781.947379   39033.462364     12.956486         1614.757313   \n",
       "min         1.000000 -999999.000000      5.000000            0.000000   \n",
       "25%     38104.750000       2.000000     23.000000            0.000000   \n",
       "50%     76043.000000       2.000000     28.000000            0.000000   \n",
       "75%    113748.750000       2.000000     40.000000            0.000000   \n",
       "max    151838.000000     238.000000    105.000000       210000.000000   \n",
       "\n",
       "       imp_op_var39_comer_ult1  imp_op_var39_comer_ult3  \\\n",
       "count             76020.000000             76020.000000   \n",
       "mean                 72.363067               119.529632   \n",
       "std                 339.315831               546.266294   \n",
       "min                   0.000000                 0.000000   \n",
       "25%                   0.000000                 0.000000   \n",
       "50%                   0.000000                 0.000000   \n",
       "75%                   0.000000                 0.000000   \n",
       "max               12888.030000             21024.810000   \n",
       "\n",
       "       imp_op_var40_comer_ult1  imp_op_var40_comer_ult3  \\\n",
       "count             76020.000000             76020.000000   \n",
       "mean                  3.559130                 6.472698   \n",
       "std                  93.155749               153.737066   \n",
       "min                   0.000000                 0.000000   \n",
       "25%                   0.000000                 0.000000   \n",
       "50%                   0.000000                 0.000000   \n",
       "75%                   0.000000                 0.000000   \n",
       "max                8237.820000             11073.570000   \n",
       "\n",
       "       imp_op_var40_efect_ult1  imp_op_var40_efect_ult3  ...  \\\n",
       "count             76020.000000             76020.000000  ...   \n",
       "mean                  0.412946                 0.567352  ...   \n",
       "std                  30.604864                36.513513  ...   \n",
       "min                   0.000000                 0.000000  ...   \n",
       "25%                   0.000000                 0.000000  ...   \n",
       "50%                   0.000000                 0.000000  ...   \n",
       "75%                   0.000000                 0.000000  ...   \n",
       "max                6600.000000              6600.000000  ...   \n",
       "\n",
       "       saldo_medio_var33_hace2  saldo_medio_var33_hace3  \\\n",
       "count             76020.000000             76020.000000   \n",
       "mean                  7.935824                 1.365146   \n",
       "std                 455.887218               113.959637   \n",
       "min                   0.000000                 0.000000   \n",
       "25%                   0.000000                 0.000000   \n",
       "50%                   0.000000                 0.000000   \n",
       "75%                   0.000000                 0.000000   \n",
       "max               50003.880000             20385.720000   \n",
       "\n",
       "       saldo_medio_var33_ult1  saldo_medio_var33_ult3  \\\n",
       "count            76020.000000            76020.000000   \n",
       "mean                12.215580                8.784074   \n",
       "std                783.207399              538.439211   \n",
       "min                  0.000000                0.000000   \n",
       "25%                  0.000000                0.000000   \n",
       "50%                  0.000000                0.000000   \n",
       "75%                  0.000000                0.000000   \n",
       "max             138831.630000            91778.730000   \n",
       "\n",
       "       saldo_medio_var44_hace2  saldo_medio_var44_hace3  \\\n",
       "count             76020.000000             76020.000000   \n",
       "mean                 31.505324                 1.858575   \n",
       "std                2013.125393               147.786584   \n",
       "min                   0.000000                 0.000000   \n",
       "25%                   0.000000                 0.000000   \n",
       "50%                   0.000000                 0.000000   \n",
       "75%                   0.000000                 0.000000   \n",
       "max              438329.220000             24650.010000   \n",
       "\n",
       "       saldo_medio_var44_ult1  saldo_medio_var44_ult3         var38  \\\n",
       "count            76020.000000            76020.000000  7.602000e+04   \n",
       "mean                76.026165               56.614351  1.172358e+05   \n",
       "std               4040.337842             2852.579397  1.826646e+05   \n",
       "min                  0.000000                0.000000  5.163750e+03   \n",
       "25%                  0.000000                0.000000  6.787061e+04   \n",
       "50%                  0.000000                0.000000  1.064092e+05   \n",
       "75%                  0.000000                0.000000  1.187563e+05   \n",
       "max             681462.900000           397884.300000  2.203474e+07   \n",
       "\n",
       "             TARGET  \n",
       "count  76020.000000  \n",
       "mean       0.039569  \n",
       "std        0.194945  \n",
       "min        0.000000  \n",
       "25%        0.000000  \n",
       "50%        0.000000  \n",
       "75%        0.000000  \n",
       "max        1.000000  \n",
       "\n",
       "[8 rows x 371 columns]"
      ]
     },
     "execution_count": 8,
     "metadata": {},
     "output_type": "execute_result"
    }
   ],
   "source": [
    "# descrição dos dados\n",
    "Santander_Train.describe()"
   ]
  },
  {
   "cell_type": "code",
   "execution_count": 9,
   "metadata": {},
   "outputs": [
    {
     "data": {
      "text/plain": [
       "False"
      ]
     },
     "execution_count": 9,
     "metadata": {},
     "output_type": "execute_result"
    }
   ],
   "source": [
    "# Verificando se existem valores NA\n",
    "df_false_true = Santander_Train.isna()\n",
    "any(df_false_true.apply(any, axis = 0))"
   ]
  },
  {
   "cell_type": "code",
   "execution_count": 10,
   "metadata": {},
   "outputs": [
    {
     "data": {
      "text/plain": [
       "ID                             0\n",
       "var3                          75\n",
       "var15                          0\n",
       "imp_ent_var16_ult1         72301\n",
       "imp_op_var39_comer_ult1    66075\n",
       "                           ...  \n",
       "saldo_medio_var44_hace3    75988\n",
       "saldo_medio_var44_ult1     75879\n",
       "saldo_medio_var44_ult3     75879\n",
       "var38                          0\n",
       "TARGET                     73012\n",
       "Length: 371, dtype: int64"
      ]
     },
     "execution_count": 10,
     "metadata": {},
     "output_type": "execute_result"
    }
   ],
   "source": [
    "# Contando números zero\n",
    "zeros = (Santander_Train == 0).sum(axis = 0)\n",
    "zeros"
   ]
  },
  {
   "cell_type": "code",
   "execution_count": 11,
   "metadata": {},
   "outputs": [
    {
     "data": {
      "text/plain": [
       "0.906704364222495"
      ]
     },
     "execution_count": 11,
     "metadata": {},
     "output_type": "execute_result"
    }
   ],
   "source": [
    "# Total de zeros na tabela\n",
    "total_zeros = sum(zeros)\n",
    "\n",
    "# Total de números\n",
    "total_numeros = sum(Santander_Train.count(axis = 0))\n",
    "\n",
    "# porcentagem de zeros\n",
    "total_zeros/total_numeros"
   ]
  },
  {
   "cell_type": "markdown",
   "metadata": {},
   "source": [
    "A porcentagem de zeros em comparação com a quantidade total de números do dataframe é de 90%.\n",
    "Nesse caso, o dataframe pode ser considerado esparso. Vamos aplicar uma técnica de padronizção que também lida com data sets esparsos."
   ]
  },
  {
   "cell_type": "code",
   "execution_count": 12,
   "metadata": {},
   "outputs": [],
   "source": [
    "# Calculaando as correlações\n",
    "correlation = Santander_Train.corr()"
   ]
  },
  {
   "cell_type": "code",
   "execution_count": 13,
   "metadata": {},
   "outputs": [],
   "source": [
    "# Correlação com a variável TARGET\n",
    "corr_TARGET = correlation.loc[\"TARGET\",:]"
   ]
  },
  {
   "cell_type": "code",
   "execution_count": 14,
   "metadata": {},
   "outputs": [
    {
     "data": {
      "text/plain": [
       "TARGET                 1.000000\n",
       "var36                  0.102919\n",
       "var15                  0.101322\n",
       "num_var5              -0.134095\n",
       "ind_var5              -0.135349\n",
       "num_var42             -0.135693\n",
       "num_var30             -0.138289\n",
       "num_meses_var5_ult3   -0.148253\n",
       "ind_var30             -0.149811\n",
       "Name: TARGET, dtype: float64"
      ]
     },
     "execution_count": 14,
     "metadata": {},
     "output_type": "execute_result"
    }
   ],
   "source": [
    "corr_TARGET_notNA = corr_TARGET.sort_values(ascending=False).dropna()\n",
    "corr_TARGET_notNA[abs(corr_TARGET_notNA) >= 0.1]"
   ]
  },
  {
   "cell_type": "code",
   "execution_count": 15,
   "metadata": {},
   "outputs": [
    {
     "data": {
      "image/png": "[encoded data removed]",
      "text/plain": [
       "<Figure size 432x288 with 9 Axes>"
      ]
     },
     "metadata": {
      "needs_background": "light"
     },
     "output_type": "display_data"
    }
   ],
   "source": [
    "# Plotando gráficos das varáveis com maiores correlações\n",
    "fig, ax = plt.subplots(3,3)\n",
    "\n",
    "var_target = Santander_Train.loc[:,\"TARGET\"]\n",
    "\n",
    "var36 = Santander_Train.loc[:,\"var36\"]\n",
    "var15 = Santander_Train.loc[:,\"var15\"]\n",
    "num_var5 = Santander_Train.loc[:,\"num_var5\"]\n",
    "ind_var5 = Santander_Train.loc[:,\"ind_var5\"]\n",
    "num_var42 = Santander_Train.loc[:,\"num_var42\"]\n",
    "num_var30 = Santander_Train.loc[:,\"num_var30\"]\n",
    "num_meses_var5_ult3 = Santander_Train.loc[:,\"num_meses_var5_ult3\"]\n",
    "ind_var30 = Santander_Train.loc[:,\"ind_var30\"]\n",
    "\n",
    "ax[0,0].scatter(var36, var_target)\n",
    "ax[0,1].scatter(var15, var_target)\n",
    "ax[0,2].scatter(num_var5, var_target)\n",
    "ax[1,0].scatter(ind_var5, var_target)\n",
    "ax[1,1].scatter(num_var42, var_target)\n",
    "ax[1,2].scatter(num_var30, var_target)\n",
    "ax[2,0].scatter(num_meses_var5_ult3, var_target)\n",
    "ax[2,1].scatter(ind_var30, var_target)\n",
    "\n",
    "plt.show()"
   ]
  },
  {
   "cell_type": "code",
   "execution_count": 16,
   "metadata": {},
   "outputs": [
    {
     "data": {
      "text/plain": [
       "ID                         76020\n",
       "var38                      57736\n",
       "saldo_medio_var5_ult3      17330\n",
       "saldo_var30                16940\n",
       "saldo_var42                15730\n",
       "saldo_medio_var5_ult1      14778\n",
       "saldo_medio_var5_hace2     14486\n",
       "saldo_var5                 11642\n",
       "imp_op_var39_comer_ult3     9099\n",
       "imp_op_var41_comer_ult3     8961\n",
       "dtype: int64"
      ]
     },
     "execution_count": 16,
     "metadata": {},
     "output_type": "execute_result"
    }
   ],
   "source": [
    "# Variáveis coma mais valores únicos (exceto ID)\n",
    "Quant_Uniq = Santander_Train.apply(set, axis=0).map(len)\n",
    "quantitative_var = Quant_Uniq[Quant_Uniq > 200].sort_values(ascending = False).head(10)\n",
    "quantitative_var"
   ]
  },
  {
   "cell_type": "code",
   "execution_count": 17,
   "metadata": {},
   "outputs": [
    {
     "data": {
      "image/png": "[encoded data removed]",
      "text/plain": [
       "<Figure size 432x288 with 6 Axes>"
      ]
     },
     "metadata": {
      "needs_background": "light"
     },
     "output_type": "display_data"
    }
   ],
   "source": [
    "# Gráfico entre algumas variáveis\n",
    "fig, ax = plt.subplots(3,2)\n",
    "\n",
    "var38 = Santander_Train.loc[:,\"var38\"]\n",
    "\n",
    "saldo_medio_var5_ult3 = Santander_Train.loc[:,\"saldo_medio_var5_ult3\"]\n",
    "saldo_var5 = Santander_Train.loc[:,\"saldo_var5\"]\n",
    "saldo_medio_var5_ult1 = Santander_Train.loc[:,\"saldo_medio_var5_ult1\"]\n",
    "saldo_medio_var5_hace2 = Santander_Train.loc[:,\"saldo_medio_var5_hace2\"]\n",
    "\n",
    "ax[0,0].scatter(saldo_medio_var5_ult3, saldo_var5)\n",
    "ax[0,1].scatter(saldo_medio_var5_ult1, saldo_var5)\n",
    "ax[2,0].scatter(saldo_medio_var5_hace2, saldo_var5)\n",
    "ax[1,0].scatter(saldo_medio_var5_ult3, saldo_medio_var5_ult1)\n",
    "ax[1,1].scatter(saldo_medio_var5_ult3, saldo_medio_var5_hace2)\n",
    "ax[2,1].scatter(saldo_medio_var5_hace2, saldo_medio_var5_ult1)\n",
    "\n",
    "plt.show()"
   ]
  },
  {
   "cell_type": "code",
   "execution_count": 18,
   "metadata": {},
   "outputs": [
    {
     "name": "stdout",
     "output_type": "stream",
     "text": [
      "num 0: 73012.00\n",
      "num 1: 3008.00\n"
     ]
    },
    {
     "data": {
      "image/png": "[encoded data removed]",
      "text/plain": [
       "<Figure size 432x288 with 1 Axes>"
      ]
     },
     "metadata": {
      "needs_background": "light"
     },
     "output_type": "display_data"
    }
   ],
   "source": [
    "# Quantidade de cada classe\n",
    "\n",
    "y = (Santander_Train.TARGET == 0).sum()\n",
    "x = (Santander_Train.TARGET == 1).sum()\n",
    "\n",
    "lab = [0, 1]\n",
    "val = [y, x]\n",
    "\n",
    "df = pd.DataFrame({\"lab\":lab, \"valores\":val})\n",
    "\n",
    "df.plot.bar(x = \"lab\", y = \"valores\", rot=0)\n",
    "\n",
    "print(\"num 0: %0.2f\\nnum 1: %0.2f\" %(y, x))"
   ]
  },
  {
   "cell_type": "code",
   "execution_count": 19,
   "metadata": {},
   "outputs": [],
   "source": [
    "# Aplicando a técnica de padronização\n",
    "# Aplicamos a técnica de padronização com parâmetro with_mean=False, pois o data set é esparso.\n",
    "# Data set em formatos CSR e CCS podem ser padrozizados sem que essa estrutura de compressão seja\n",
    "# prejudicada.\n",
    "from sklearn.preprocessing import StandardScaler\n",
    "\n",
    "scaler = StandardScaler(with_mean=False)\n",
    "X_Train = Santander_Train.iloc[:,0:370]\n",
    "y_Train = Santander_Train.iloc[:,370]\n",
    "\n",
    "# Data set de teste\n",
    "X_Test = Santander_Test\n",
    "\n",
    "# Aplicando a padronização\n",
    "scaler = scaler.fit(X_Train)\n",
    "df_Standarded = scaler.transform(X_Train)\n",
    "\n",
    "# Aplicando as transformações aos dados de teste\n",
    "df_Stand_test = scaler.transform(X_Test)"
   ]
  },
  {
   "cell_type": "code",
   "execution_count": 21,
   "metadata": {},
   "outputs": [
    {
     "data": {
      "text/plain": [
       "array([[2.28406144e-05, 5.12384255e-05, 1.77518438e+00, ...,\n",
       "        0.00000000e+00, 0.00000000e+00, 2.14630685e-01],\n",
       "       [6.85218432e-05, 5.12384255e-05, 2.62418561e+00, ...,\n",
       "        0.00000000e+00, 0.00000000e+00, 2.69775066e-01],\n",
       "       [9.13624576e-05, 5.12384255e-05, 1.77518438e+00, ...,\n",
       "        0.00000000e+00, 0.00000000e+00, 3.68622127e-01],\n",
       "       [1.82724915e-04, 5.12384255e-05, 2.85573140e+00, ...,\n",
       "        0.00000000e+00, 0.00000000e+00, 3.50414867e-01],\n",
       "       [2.28406144e-04, 5.12384255e-05, 3.01009526e+00, ...,\n",
       "        0.00000000e+00, 0.00000000e+00, 6.42224884e-01]])"
      ]
     },
     "execution_count": 21,
     "metadata": {},
     "output_type": "execute_result"
    }
   ],
   "source": [
    "# Mostrando os dados padronizados\n",
    "df_Standarded[0:5,:]"
   ]
  },
  {
   "cell_type": "code",
   "execution_count": 22,
   "metadata": {},
   "outputs": [
    {
     "data": {
      "text/plain": [
       "(76020, 370)"
      ]
     },
     "execution_count": 22,
     "metadata": {},
     "output_type": "execute_result"
    }
   ],
   "source": [
    "# O formato do array\n",
    "df_Standarded.shape"
   ]
  },
  {
   "cell_type": "code",
   "execution_count": 23,
   "metadata": {},
   "outputs": [],
   "source": [
    "# Aplicando a técnica de redução de dimensionalidade do data set\n",
    "# Para data sets esparsos, o ideal seria a utilização do algoritmo IPCA, mas utilizamos o PCA.\n",
    "from sklearn.decomposition import PCA\n",
    "\n",
    "pca = PCA(n_components=8)\n",
    "pca = pca.fit(df_Standarded)\n",
    "df_pca = pca.transform(df_Standarded)\n",
    "\n",
    "# Aplicando as transformações aos dados de teste\n",
    "df_pca_test = pca.transform(df_Stand_test)"
   ]
  },
  {
   "cell_type": "code",
   "execution_count": 24,
   "metadata": {},
   "outputs": [],
   "source": [
    "# Criando o dataframe com os dados PCA\n",
    "df_Train_pca = pd.DataFrame(df_pca, columns=[\"col1\",\"col2\",\n",
    "                             \"col3\",\"col4\",\n",
    "                             \"col5\",\"col6\",\n",
    "                             \"col7\",\"col8\"])\n",
    "\n",
    "# Criando dataframe de teste com os dados PCA\n",
    "df_Test_pca = pd.DataFrame(df_pca_test, columns=[\"col1\",\"col2\",\n",
    "                             \"col3\",\"col4\",\n",
    "                             \"col5\",\"col6\",\n",
    "                             \"col7\",\"col8\"])"
   ]
  },
  {
   "cell_type": "code",
   "execution_count": 25,
   "metadata": {},
   "outputs": [
    {
     "data": {
      "text/plain": [
       "col1    76020\n",
       "col2    76020\n",
       "col3    76020\n",
       "col4    76020\n",
       "col5    76020\n",
       "col6    76020\n",
       "col7    76020\n",
       "col8    76020\n",
       "dtype: int64"
      ]
     },
     "execution_count": 25,
     "metadata": {},
     "output_type": "execute_result"
    }
   ],
   "source": [
    "# Data set com 8 colunas e 76020 registros\n",
    "df_Train_pca.count()"
   ]
  },
  {
   "cell_type": "code",
   "execution_count": 26,
   "metadata": {},
   "outputs": [
    {
     "data": {
      "text/html": [
       "<div>\n",
       "<style scoped>\n",
       "    .dataframe tbody tr th:only-of-type {\n",
       "        vertical-align: middle;\n",
       "    }\n",
       "\n",
       "    .dataframe tbody tr th {\n",
       "        vertical-align: top;\n",
       "    }\n",
       "\n",
       "    .dataframe thead th {\n",
       "        text-align: right;\n",
       "    }\n",
       "</style>\n",
       "<table border=\"1\" class=\"dataframe\">\n",
       "  <thead>\n",
       "    <tr style=\"text-align: right;\">\n",
       "      <th></th>\n",
       "      <th>col1</th>\n",
       "      <th>col2</th>\n",
       "      <th>col3</th>\n",
       "      <th>col4</th>\n",
       "      <th>col5</th>\n",
       "      <th>col6</th>\n",
       "      <th>col7</th>\n",
       "      <th>col8</th>\n",
       "    </tr>\n",
       "  </thead>\n",
       "  <tbody>\n",
       "    <tr>\n",
       "      <th>0</th>\n",
       "      <td>-2.671795</td>\n",
       "      <td>-1.554486</td>\n",
       "      <td>-0.220259</td>\n",
       "      <td>0.267512</td>\n",
       "      <td>0.153192</td>\n",
       "      <td>1.353934</td>\n",
       "      <td>0.160462</td>\n",
       "      <td>-0.109370</td>\n",
       "    </tr>\n",
       "    <tr>\n",
       "      <th>1</th>\n",
       "      <td>-0.957959</td>\n",
       "      <td>7.752778</td>\n",
       "      <td>-4.194069</td>\n",
       "      <td>5.221495</td>\n",
       "      <td>2.477700</td>\n",
       "      <td>0.254007</td>\n",
       "      <td>0.131921</td>\n",
       "      <td>0.081344</td>\n",
       "    </tr>\n",
       "    <tr>\n",
       "      <th>2</th>\n",
       "      <td>-1.983010</td>\n",
       "      <td>-0.933886</td>\n",
       "      <td>0.012823</td>\n",
       "      <td>-0.084887</td>\n",
       "      <td>0.113459</td>\n",
       "      <td>-0.155143</td>\n",
       "      <td>0.019536</td>\n",
       "      <td>-0.112428</td>\n",
       "    </tr>\n",
       "    <tr>\n",
       "      <th>3</th>\n",
       "      <td>4.445355</td>\n",
       "      <td>-1.455413</td>\n",
       "      <td>0.072351</td>\n",
       "      <td>-0.081794</td>\n",
       "      <td>-0.197027</td>\n",
       "      <td>-2.799990</td>\n",
       "      <td>-0.386871</td>\n",
       "      <td>0.125479</td>\n",
       "    </tr>\n",
       "    <tr>\n",
       "      <th>4</th>\n",
       "      <td>2.083534</td>\n",
       "      <td>8.543038</td>\n",
       "      <td>4.088579</td>\n",
       "      <td>-10.281934</td>\n",
       "      <td>-5.907585</td>\n",
       "      <td>1.589592</td>\n",
       "      <td>-0.250864</td>\n",
       "      <td>0.775683</td>\n",
       "    </tr>\n",
       "  </tbody>\n",
       "</table>\n",
       "</div>"
      ],
      "text/plain": [
       "       col1      col2      col3       col4      col5      col6      col7  \\\n",
       "0 -2.671795 -1.554486 -0.220259   0.267512  0.153192  1.353934  0.160462   \n",
       "1 -0.957959  7.752778 -4.194069   5.221495  2.477700  0.254007  0.131921   \n",
       "2 -1.983010 -0.933886  0.012823  -0.084887  0.113459 -0.155143  0.019536   \n",
       "3  4.445355 -1.455413  0.072351  -0.081794 -0.197027 -2.799990 -0.386871   \n",
       "4  2.083534  8.543038  4.088579 -10.281934 -5.907585  1.589592 -0.250864   \n",
       "\n",
       "       col8  \n",
       "0 -0.109370  \n",
       "1  0.081344  \n",
       "2 -0.112428  \n",
       "3  0.125479  \n",
       "4  0.775683  "
      ]
     },
     "execution_count": 26,
     "metadata": {},
     "output_type": "execute_result"
    }
   ],
   "source": [
    "# As 5 primeiras linhas do data set\n",
    "df_Train_pca.head()"
   ]
  },
  {
   "cell_type": "code",
   "execution_count": 27,
   "metadata": {},
   "outputs": [
    {
     "data": {
      "text/html": [
       "<div>\n",
       "<style scoped>\n",
       "    .dataframe tbody tr th:only-of-type {\n",
       "        vertical-align: middle;\n",
       "    }\n",
       "\n",
       "    .dataframe tbody tr th {\n",
       "        vertical-align: top;\n",
       "    }\n",
       "\n",
       "    .dataframe thead th {\n",
       "        text-align: right;\n",
       "    }\n",
       "</style>\n",
       "<table border=\"1\" class=\"dataframe\">\n",
       "  <thead>\n",
       "    <tr style=\"text-align: right;\">\n",
       "      <th></th>\n",
       "      <th>col1</th>\n",
       "      <th>col2</th>\n",
       "      <th>col3</th>\n",
       "      <th>col4</th>\n",
       "      <th>col5</th>\n",
       "      <th>col6</th>\n",
       "      <th>col7</th>\n",
       "      <th>col8</th>\n",
       "      <th>TARGET</th>\n",
       "    </tr>\n",
       "  </thead>\n",
       "  <tbody>\n",
       "    <tr>\n",
       "      <th>0</th>\n",
       "      <td>-2.671795</td>\n",
       "      <td>-1.554486</td>\n",
       "      <td>-0.220259</td>\n",
       "      <td>0.267512</td>\n",
       "      <td>0.153192</td>\n",
       "      <td>1.353934</td>\n",
       "      <td>0.160462</td>\n",
       "      <td>-0.109370</td>\n",
       "      <td>0</td>\n",
       "    </tr>\n",
       "    <tr>\n",
       "      <th>1</th>\n",
       "      <td>-0.957959</td>\n",
       "      <td>7.752778</td>\n",
       "      <td>-4.194069</td>\n",
       "      <td>5.221495</td>\n",
       "      <td>2.477700</td>\n",
       "      <td>0.254007</td>\n",
       "      <td>0.131921</td>\n",
       "      <td>0.081344</td>\n",
       "      <td>0</td>\n",
       "    </tr>\n",
       "    <tr>\n",
       "      <th>2</th>\n",
       "      <td>-1.983010</td>\n",
       "      <td>-0.933886</td>\n",
       "      <td>0.012823</td>\n",
       "      <td>-0.084887</td>\n",
       "      <td>0.113459</td>\n",
       "      <td>-0.155143</td>\n",
       "      <td>0.019536</td>\n",
       "      <td>-0.112428</td>\n",
       "      <td>0</td>\n",
       "    </tr>\n",
       "    <tr>\n",
       "      <th>3</th>\n",
       "      <td>4.445355</td>\n",
       "      <td>-1.455413</td>\n",
       "      <td>0.072351</td>\n",
       "      <td>-0.081794</td>\n",
       "      <td>-0.197027</td>\n",
       "      <td>-2.799990</td>\n",
       "      <td>-0.386871</td>\n",
       "      <td>0.125479</td>\n",
       "      <td>0</td>\n",
       "    </tr>\n",
       "    <tr>\n",
       "      <th>4</th>\n",
       "      <td>2.083534</td>\n",
       "      <td>8.543038</td>\n",
       "      <td>4.088579</td>\n",
       "      <td>-10.281934</td>\n",
       "      <td>-5.907585</td>\n",
       "      <td>1.589592</td>\n",
       "      <td>-0.250864</td>\n",
       "      <td>0.775683</td>\n",
       "      <td>0</td>\n",
       "    </tr>\n",
       "    <tr>\n",
       "      <th>...</th>\n",
       "      <td>...</td>\n",
       "      <td>...</td>\n",
       "      <td>...</td>\n",
       "      <td>...</td>\n",
       "      <td>...</td>\n",
       "      <td>...</td>\n",
       "      <td>...</td>\n",
       "      <td>...</td>\n",
       "      <td>...</td>\n",
       "    </tr>\n",
       "    <tr>\n",
       "      <th>76015</th>\n",
       "      <td>-2.580238</td>\n",
       "      <td>-1.388228</td>\n",
       "      <td>-0.212370</td>\n",
       "      <td>0.281523</td>\n",
       "      <td>0.138958</td>\n",
       "      <td>1.369150</td>\n",
       "      <td>0.152837</td>\n",
       "      <td>-0.101351</td>\n",
       "      <td>0</td>\n",
       "    </tr>\n",
       "    <tr>\n",
       "      <th>76016</th>\n",
       "      <td>1.753481</td>\n",
       "      <td>7.114888</td>\n",
       "      <td>2.928036</td>\n",
       "      <td>-8.049218</td>\n",
       "      <td>-4.696881</td>\n",
       "      <td>1.385722</td>\n",
       "      <td>-0.209432</td>\n",
       "      <td>0.803343</td>\n",
       "      <td>0</td>\n",
       "    </tr>\n",
       "    <tr>\n",
       "      <th>76017</th>\n",
       "      <td>-2.001279</td>\n",
       "      <td>-0.957079</td>\n",
       "      <td>-0.004676</td>\n",
       "      <td>-0.062202</td>\n",
       "      <td>0.101325</td>\n",
       "      <td>-0.062004</td>\n",
       "      <td>0.018645</td>\n",
       "      <td>-0.112794</td>\n",
       "      <td>0</td>\n",
       "    </tr>\n",
       "    <tr>\n",
       "      <th>76018</th>\n",
       "      <td>-1.932655</td>\n",
       "      <td>-0.889418</td>\n",
       "      <td>0.007888</td>\n",
       "      <td>-0.098427</td>\n",
       "      <td>0.112179</td>\n",
       "      <td>-0.213095</td>\n",
       "      <td>0.007495</td>\n",
       "      <td>-0.126947</td>\n",
       "      <td>0</td>\n",
       "    </tr>\n",
       "    <tr>\n",
       "      <th>76019</th>\n",
       "      <td>-2.587594</td>\n",
       "      <td>-1.399881</td>\n",
       "      <td>-0.212494</td>\n",
       "      <td>0.281237</td>\n",
       "      <td>0.141068</td>\n",
       "      <td>1.368953</td>\n",
       "      <td>0.152463</td>\n",
       "      <td>-0.102253</td>\n",
       "      <td>0</td>\n",
       "    </tr>\n",
       "  </tbody>\n",
       "</table>\n",
       "<p>76020 rows × 9 columns</p>\n",
       "</div>"
      ],
      "text/plain": [
       "           col1      col2      col3       col4      col5      col6      col7  \\\n",
       "0     -2.671795 -1.554486 -0.220259   0.267512  0.153192  1.353934  0.160462   \n",
       "1     -0.957959  7.752778 -4.194069   5.221495  2.477700  0.254007  0.131921   \n",
       "2     -1.983010 -0.933886  0.012823  -0.084887  0.113459 -0.155143  0.019536   \n",
       "3      4.445355 -1.455413  0.072351  -0.081794 -0.197027 -2.799990 -0.386871   \n",
       "4      2.083534  8.543038  4.088579 -10.281934 -5.907585  1.589592 -0.250864   \n",
       "...         ...       ...       ...        ...       ...       ...       ...   \n",
       "76015 -2.580238 -1.388228 -0.212370   0.281523  0.138958  1.369150  0.152837   \n",
       "76016  1.753481  7.114888  2.928036  -8.049218 -4.696881  1.385722 -0.209432   \n",
       "76017 -2.001279 -0.957079 -0.004676  -0.062202  0.101325 -0.062004  0.018645   \n",
       "76018 -1.932655 -0.889418  0.007888  -0.098427  0.112179 -0.213095  0.007495   \n",
       "76019 -2.587594 -1.399881 -0.212494   0.281237  0.141068  1.368953  0.152463   \n",
       "\n",
       "           col8  TARGET  \n",
       "0     -0.109370       0  \n",
       "1      0.081344       0  \n",
       "2     -0.112428       0  \n",
       "3      0.125479       0  \n",
       "4      0.775683       0  \n",
       "...         ...     ...  \n",
       "76015 -0.101351       0  \n",
       "76016  0.803343       0  \n",
       "76017 -0.112794       0  \n",
       "76018 -0.126947       0  \n",
       "76019 -0.102253       0  \n",
       "\n",
       "[76020 rows x 9 columns]"
      ]
     },
     "execution_count": 27,
     "metadata": {},
     "output_type": "execute_result"
    }
   ],
   "source": [
    "# Concatenando com a variável target\n",
    "df_Train_pca = pd.concat([df_Train_pca, y_Train], axis=1)\n",
    "df_Train_pca = df_Train_pca.iloc[:,0:9]\n",
    "df_Train_pca"
   ]
  },
  {
   "cell_type": "markdown",
   "metadata": {},
   "source": [
    "## Validação Cruzada (cross-validation)\n",
    "\n",
    "Essa técnica é utilizada para avaliar a capacidade de generalização do modelo. Existem 3 principais métodos:\n",
    "\n",
    "1. Holdout\n",
    "    * Consiste na técnica de separar o conjunto de dados em dois subconjuntos mutuamente excludentes, a saber, um para estimação de parâmetro e outro para validação. Após essa separação, os modelo são testados e, então, é possível avaliar a capacidade de generalização do modelo. As divisões são normalmente 1/3 para validação e 2/3 para estimação. Utilizado para conjuntos de dados muito grandes.\n",
    "\n",
    "2. K-fold\n",
    "    * Nesta técnica, os dados são divididos em k subconjuntos de dados dos quais 1 é separado para validação e o restante (k-1) para estimação. São separados k conjuntos de estimação e k conjuntos de validação, ou seja, k parâmetros de performnce do modelo.\n",
    "\n",
    "3. Leave one-out\n",
    "    * Esta técnica é uma consequência do k-fold onde k é igual ao número de registros do data set. Esta técnica demanda uma capacidade computacional muito maior."
   ]
  },
  {
   "cell_type": "code",
   "execution_count": 28,
   "metadata": {},
   "outputs": [],
   "source": [
    "# Separando dados de treino e teste (holdout)\n",
    "from sklearn.model_selection import train_test_split\n",
    "\n",
    "X_train, X_test, y_train, y_test = train_test_split(df_Train_pca.iloc[:,0:8], df_Train_pca.TARGET, \n",
    "                                                    test_size=0.33, random_state=0)"
   ]
  },
  {
   "cell_type": "code",
   "execution_count": 29,
   "metadata": {},
   "outputs": [],
   "source": [
    "# Treinando modelos de machine learning (Adaboost)\n",
    "from sklearn.ensemble import GradientBoostingClassifier\n",
    "\n",
    "x_teste = df_Test_pca\n",
    "\n",
    "# Criando o objeto Gradient Boosting \n",
    "modelo = GradientBoostingClassifier(n_estimators = 100, learning_rate = 1.0, max_depth = 1, random_state = 0)\n",
    "\n",
    "# Treinando o modelo com dados de treino \n",
    "modelo = modelo.fit(X_train, y_train)\n",
    "\n",
    "# Previsões\n",
    "# valores_previstos = modelo.predict(x_teste)"
   ]
  },
  {
   "cell_type": "markdown",
   "metadata": {},
   "source": [
    "### Métricas para Classificadores\n",
    "\n",
    "* Recall:\n",
    "\n",
    "$\\frac{t_p}{t_p + f_n}$ onde $t_p$ é o número de verdadeiro positivo e $f_n$ o número de falso negativo.\n",
    "O recall mede o quanto os positivos foram classificados corretamente em comparação com todos os valores que foram classificados  como positivos corretamentd e os valores que foram classificados erradamente como negativos (valores que deveriam ser classificados como positivo). Ele mede a habilidade do classificador encontrar todas as amostras positivas.\n",
    "\n",
    "* Precision:\n",
    "\n",
    "$\\frac{t_p}{t_p + f_p}$ onde $t_p$ é o número de verdadeiro positivo e $f_p$ o número de falso positivo.\n",
    "O precision mede o quanto os positivos foram classificados corretamente em comparação com todos que foram classificados como positivo (os classificados corretamente e erradamente como positivos). Ele mede a habilidade do classificador classificar como positivo uma amostra que é negativa.\n",
    "\n",
    "* Accuracy:\n",
    "\n",
    "$\\frac{t_p + t_n}{t_p + f_p + f_n + t_n}$ onde $t_p$ é o número de verdadeiro positivo, $f_p$ o número de falso positivo, $f_n$ o número de falso negativo e $t_n$ o numero de verdadeiro negativo. Essa métrica mede o quanto o classificador consegue classificar corretamente as amostras positivas e negativas."
   ]
  },
  {
   "cell_type": "code",
   "execution_count": 30,
   "metadata": {},
   "outputs": [
    {
     "name": "stdout",
     "output_type": "stream",
     "text": [
      "accuracy: 0.96010 \n",
      "precision: 0.00000 \n",
      "recall: 0.00000\n",
      "roc: 0.49998\n"
     ]
    }
   ],
   "source": [
    "# Avaliando métricas de classificação\n",
    "from sklearn.metrics import accuracy_score\n",
    "from sklearn.metrics import precision_score\n",
    "from sklearn.metrics import recall_score\n",
    "from sklearn.metrics import roc_auc_score\n",
    "\n",
    "y_test_pred = modelo.predict(X_test)\n",
    "\n",
    "accuracy = accuracy_score(y_test, y_test_pred)\n",
    "\n",
    "precision = precision_score(y_test, y_test_pred)\n",
    "\n",
    "recall = recall_score(y_test, y_test_pred)\n",
    "\n",
    "roc = roc_auc_score(y_test, y_test_pred)\n",
    "\n",
    "print(\"accuracy: %0.5f \\nprecision: %0.5f \\nrecall: %0.5f\\nroc: %0.5f\" %(accuracy, precision, recall, roc))"
   ]
  },
  {
   "cell_type": "code",
   "execution_count": 31,
   "metadata": {},
   "outputs": [
    {
     "name": "stdout",
     "output_type": "stream",
     "text": [
      "              precision    recall  f1-score   support\n",
      "\n",
      "           0       0.96      1.00      0.98     24087\n",
      "           1       0.00      0.00      0.00      1000\n",
      "\n",
      "    accuracy                           0.96     25087\n",
      "   macro avg       0.48      0.50      0.49     25087\n",
      "weighted avg       0.92      0.96      0.94     25087\n",
      "\n"
     ]
    }
   ],
   "source": [
    "# Métricas de classificação\n",
    "from sklearn.metrics import classification_report\n",
    "\n",
    "print(classification_report(y_test, y_test_pred))"
   ]
  },
  {
   "cell_type": "code",
   "execution_count": 32,
   "metadata": {},
   "outputs": [
    {
     "name": "stdout",
     "output_type": "stream",
     "text": [
      "Predito      0  1    All\n",
      "Real                    \n",
      "0        24086  1  24087\n",
      "1         1000  0   1000\n",
      "All      25086  1  25087\n"
     ]
    }
   ],
   "source": [
    "# Cross Table\n",
    "print (pd.crosstab(y_test, y_test_pred, rownames=['Real'], colnames=['Predito'], margins=True))"
   ]
  },
  {
   "cell_type": "code",
   "execution_count": 33,
   "metadata": {},
   "outputs": [
    {
     "data": {
      "text/plain": [
       "<sklearn.metrics._plot.confusion_matrix.ConfusionMatrixDisplay at 0x7fbd38038850>"
      ]
     },
     "execution_count": 33,
     "metadata": {},
     "output_type": "execute_result"
    },
    {
     "data": {
      "image/png": "[encoded data removed]",
      "text/plain": [
       "<Figure size 432x288 with 2 Axes>"
      ]
     },
     "metadata": {
      "needs_background": "light"
     },
     "output_type": "display_data"
    }
   ],
   "source": [
    "# Matriz de confusão\n",
    "from sklearn.metrics import plot_confusion_matrix\n",
    "\n",
    "plot_confusion_matrix(modelo, X_train, y_train)"
   ]
  },
  {
   "cell_type": "code",
   "execution_count": 34,
   "metadata": {},
   "outputs": [
    {
     "name": "stdout",
     "output_type": "stream",
     "text": [
      "accuracy mean: 0.960\n",
      "accuracy std: 0.000\n",
      "\n",
      "\n",
      "precision mean: 0.000\n",
      "presicion std: 0.000\n",
      "\n",
      "\n",
      "recall mean: 0.000\n",
      "recall std: 0.000\n",
      "\n"
     ]
    }
   ],
   "source": [
    "# Usando a técnica k-fold\n",
    "from sklearn.model_selection import KFold\n",
    "from sklearn.model_selection import cross_val_score\n",
    "import warnings\n",
    "warnings.filterwarnings('ignore')\n",
    "\n",
    "k_fold = KFold(n_splits=4)\n",
    "\n",
    "X_train_fold = df_Train_pca.iloc[:,0:8]\n",
    "y_train_fold = df_Train_pca.TARGET\n",
    "\n",
    "modelo_new = GradientBoostingClassifier(n_estimators = 100, learning_rate = 1.0, \n",
    "                                        max_depth = 1, random_state = 0)\n",
    "\n",
    "scores_accuracy = cross_val_score(modelo_new, X_train_fold, y_train_fold, scoring=\"accuracy\")\n",
    "scores_precision = cross_val_score(modelo_new, X_train_fold, y_train_fold, scoring=\"precision\")\n",
    "scores_recall = cross_val_score(modelo_new, X_train_fold, y_train_fold, scoring=\"recall\")\n",
    "\n",
    "print(\"accuracy mean: %0.3f\\naccuracy std: %0.3f\\n\\n\" %(scores_accuracy.mean(), scores_accuracy.std()))\n",
    "print(\"precision mean: %0.3f\\npresicion std: %0.3f\\n\\n\" %(scores_precision.mean(), scores_precision.std()))\n",
    "print(\"recall mean: %0.3f\\nrecall std: %0.3f\\n\" %(scores_recall.mean(), scores_recall.std()))"
   ]
  },
  {
   "cell_type": "code",
   "execution_count": 35,
   "metadata": {},
   "outputs": [],
   "source": [
    "# Balanceamento de dados (imbalanced-learn)\n",
    "from imblearn.over_sampling import SMOTE\n",
    "\n",
    "smote = SMOTE(random_state=0)\n",
    "\n",
    "X_res, y_res = smote.fit_resample(X_train_fold, y_train_fold)"
   ]
  },
  {
   "cell_type": "code",
   "execution_count": 36,
   "metadata": {},
   "outputs": [],
   "source": [
    "# Data set balanceado\n",
    "df_balanced = pd.concat([X_res, y_res], axis=1)"
   ]
  },
  {
   "cell_type": "code",
   "execution_count": 36,
   "metadata": {},
   "outputs": [
    {
     "name": "stdout",
     "output_type": "stream",
     "text": [
      "num 0: 73012.00\n",
      "num 1: 73012.00\n"
     ]
    },
    {
     "data": {
      "image/png": "[encoded data removed]",
      "text/plain": [
       "<Figure size 432x288 with 1 Axes>"
      ]
     },
     "metadata": {
      "needs_background": "light"
     },
     "output_type": "display_data"
    }
   ],
   "source": [
    "import seaborn as sns\n",
    "\n",
    "sns.countplot(\"TARGET\", data=df_balanced)\n",
    "\n",
    "zeros_balan = (df_balanced.TARGET == 0).sum()\n",
    "ones_balan = (df_balanced.TARGET == 1).sum()\n",
    "\n",
    "print(\"num 0: %0.2f\\nnum 1: %0.2f\" %(zeros_balan, ones_balan))"
   ]
  },
  {
   "cell_type": "code",
   "execution_count": 37,
   "metadata": {},
   "outputs": [
    {
     "data": {
      "text/html": [
       "<div>\n",
       "<style scoped>\n",
       "    .dataframe tbody tr th:only-of-type {\n",
       "        vertical-align: middle;\n",
       "    }\n",
       "\n",
       "    .dataframe tbody tr th {\n",
       "        vertical-align: top;\n",
       "    }\n",
       "\n",
       "    .dataframe thead th {\n",
       "        text-align: right;\n",
       "    }\n",
       "</style>\n",
       "<table border=\"1\" class=\"dataframe\">\n",
       "  <thead>\n",
       "    <tr style=\"text-align: right;\">\n",
       "      <th></th>\n",
       "      <th>col1</th>\n",
       "      <th>col2</th>\n",
       "      <th>col3</th>\n",
       "      <th>col4</th>\n",
       "      <th>col5</th>\n",
       "      <th>col6</th>\n",
       "      <th>col7</th>\n",
       "      <th>col8</th>\n",
       "      <th>TARGET</th>\n",
       "    </tr>\n",
       "  </thead>\n",
       "  <tbody>\n",
       "    <tr>\n",
       "      <th>0</th>\n",
       "      <td>-2.671795</td>\n",
       "      <td>-1.554486</td>\n",
       "      <td>-0.220259</td>\n",
       "      <td>0.267512</td>\n",
       "      <td>0.153192</td>\n",
       "      <td>1.353934</td>\n",
       "      <td>0.160462</td>\n",
       "      <td>-0.109370</td>\n",
       "      <td>0</td>\n",
       "    </tr>\n",
       "    <tr>\n",
       "      <th>1</th>\n",
       "      <td>-0.957959</td>\n",
       "      <td>7.752778</td>\n",
       "      <td>-4.194069</td>\n",
       "      <td>5.221495</td>\n",
       "      <td>2.477700</td>\n",
       "      <td>0.254007</td>\n",
       "      <td>0.131921</td>\n",
       "      <td>0.081344</td>\n",
       "      <td>0</td>\n",
       "    </tr>\n",
       "    <tr>\n",
       "      <th>2</th>\n",
       "      <td>-1.983010</td>\n",
       "      <td>-0.933886</td>\n",
       "      <td>0.012823</td>\n",
       "      <td>-0.084887</td>\n",
       "      <td>0.113459</td>\n",
       "      <td>-0.155143</td>\n",
       "      <td>0.019536</td>\n",
       "      <td>-0.112428</td>\n",
       "      <td>0</td>\n",
       "    </tr>\n",
       "    <tr>\n",
       "      <th>3</th>\n",
       "      <td>4.445355</td>\n",
       "      <td>-1.455413</td>\n",
       "      <td>0.072351</td>\n",
       "      <td>-0.081794</td>\n",
       "      <td>-0.197027</td>\n",
       "      <td>-2.799990</td>\n",
       "      <td>-0.386871</td>\n",
       "      <td>0.125479</td>\n",
       "      <td>0</td>\n",
       "    </tr>\n",
       "    <tr>\n",
       "      <th>4</th>\n",
       "      <td>2.083534</td>\n",
       "      <td>8.543038</td>\n",
       "      <td>4.088579</td>\n",
       "      <td>-10.281934</td>\n",
       "      <td>-5.907585</td>\n",
       "      <td>1.589592</td>\n",
       "      <td>-0.250864</td>\n",
       "      <td>0.775683</td>\n",
       "      <td>0</td>\n",
       "    </tr>\n",
       "  </tbody>\n",
       "</table>\n",
       "</div>"
      ],
      "text/plain": [
       "       col1      col2      col3       col4      col5      col6      col7  \\\n",
       "0 -2.671795 -1.554486 -0.220259   0.267512  0.153192  1.353934  0.160462   \n",
       "1 -0.957959  7.752778 -4.194069   5.221495  2.477700  0.254007  0.131921   \n",
       "2 -1.983010 -0.933886  0.012823  -0.084887  0.113459 -0.155143  0.019536   \n",
       "3  4.445355 -1.455413  0.072351  -0.081794 -0.197027 -2.799990 -0.386871   \n",
       "4  2.083534  8.543038  4.088579 -10.281934 -5.907585  1.589592 -0.250864   \n",
       "\n",
       "       col8  TARGET  \n",
       "0 -0.109370       0  \n",
       "1  0.081344       0  \n",
       "2 -0.112428       0  \n",
       "3  0.125479       0  \n",
       "4  0.775683       0  "
      ]
     },
     "execution_count": 37,
     "metadata": {},
     "output_type": "execute_result"
    }
   ],
   "source": [
    "# view dados\n",
    "df_balanced.head()"
   ]
  },
  {
   "cell_type": "code",
   "execution_count": 38,
   "metadata": {},
   "outputs": [],
   "source": [
    "# Separando dados de treino e teste (método holdout)\n",
    "from sklearn.model_selection import train_test_split\n",
    "\n",
    "X_train_balanced = df_balanced.iloc[:,0:8]\n",
    "y_train_balanced = df_balanced.TARGET\n",
    "\n",
    "X_train_balanc, X_test_balanc, y_train_balanc, y_test_balanc = train_test_split(X_train_balanced, \n",
    "                                                                                y_train_balanced, \n",
    "                                                                                test_size=0.33, \n",
    "                                                                                random_state=0)"
   ]
  },
  {
   "cell_type": "code",
   "execution_count": 39,
   "metadata": {},
   "outputs": [
    {
     "data": {
      "text/plain": [
       "0.727380260645804"
      ]
     },
     "execution_count": 39,
     "metadata": {},
     "output_type": "execute_result"
    }
   ],
   "source": [
    "# Criando novos modelos com os dados balanceados\n",
    "\n",
    "# Treinando modelos de machine learning (Adaboost)\n",
    "from sklearn.ensemble import GradientBoostingClassifier\n",
    "\n",
    "# Criando o objeto Gradient Boosting \n",
    "modelo_balanced = GradientBoostingClassifier(n_estimators = 100, learning_rate = 1.0, \n",
    "                                             max_depth = 1, random_state = 0)\n",
    "\n",
    "# Treinando o modelo com dados de treino \n",
    "modelo_balanced = modelo_balanced.fit(X_train_balanced, y_train_balanced)\n",
    "\n",
    "# score\n",
    "modelo_balanced.score(X_test_balanc, y_test_balanc)"
   ]
  },
  {
   "cell_type": "code",
   "execution_count": 40,
   "metadata": {},
   "outputs": [
    {
     "name": "stdout",
     "output_type": "stream",
     "text": [
      "accuracy: 0.72738 \n",
      "precision: 0.73588 \n",
      "recall: 0.71323\n",
      "roc: 0.72745\n"
     ]
    }
   ],
   "source": [
    "# Métricas\n",
    "y_pred_balanc = modelo_balanced.predict(X_test_balanc)\n",
    "\n",
    "accuracy = accuracy_score(y_test_balanc, y_pred_balanc)\n",
    "\n",
    "precision = precision_score(y_test_balanc, y_pred_balanc)\n",
    "\n",
    "recall = recall_score(y_test_balanc, y_pred_balanc)\n",
    "\n",
    "roc = roc_auc_score(y_test_balanc, y_pred_balanc)\n",
    "\n",
    "print(\"accuracy: %0.5f \\nprecision: %0.5f \\nrecall: %0.5f\\nroc: %0.5f\" %(accuracy, precision, recall, roc))"
   ]
  },
  {
   "cell_type": "code",
   "execution_count": 41,
   "metadata": {},
   "outputs": [
    {
     "name": "stdout",
     "output_type": "stream",
     "text": [
      "              precision    recall  f1-score   support\n",
      "\n",
      "           0       0.72      0.74      0.73     23984\n",
      "           1       0.74      0.71      0.72     24204\n",
      "\n",
      "    accuracy                           0.73     48188\n",
      "   macro avg       0.73      0.73      0.73     48188\n",
      "weighted avg       0.73      0.73      0.73     48188\n",
      "\n"
     ]
    }
   ],
   "source": [
    "# Métricas de classificação\n",
    "from sklearn.metrics import classification_report\n",
    "\n",
    "print(classification_report(y_test_balanc, y_pred_balanc))"
   ]
  },
  {
   "cell_type": "code",
   "execution_count": 42,
   "metadata": {},
   "outputs": [
    {
     "name": "stdout",
     "output_type": "stream",
     "text": [
      "Predito      0      1    All\n",
      "Real                        \n",
      "0        17788   6196  23984\n",
      "1         6941  17263  24204\n",
      "All      24729  23459  48188\n"
     ]
    }
   ],
   "source": [
    "# Cross Table\n",
    "print (pd.crosstab(y_test_balanc, y_pred_balanc, rownames=['Real'], colnames=['Predito'], margins=True))"
   ]
  },
  {
   "cell_type": "code",
   "execution_count": 43,
   "metadata": {},
   "outputs": [
    {
     "data": {
      "text/plain": [
       "<sklearn.metrics._plot.confusion_matrix.ConfusionMatrixDisplay at 0x7fbd32bce050>"
      ]
     },
     "execution_count": 43,
     "metadata": {},
     "output_type": "execute_result"
    },
    {
     "data": {
      "image/png": "[encoded data removed]",
      "text/plain": [
       "<Figure size 432x288 with 2 Axes>"
      ]
     },
     "metadata": {
      "needs_background": "light"
     },
     "output_type": "display_data"
    }
   ],
   "source": [
    "# Matriz de confusão\n",
    "from sklearn.metrics import plot_confusion_matrix\n",
    "\n",
    "plot_confusion_matrix(modelo_balanced, X_train_balanc, y_train_balanc)"
   ]
  },
  {
   "cell_type": "code",
   "execution_count": 45,
   "metadata": {},
   "outputs": [
    {
     "name": "stdout",
     "output_type": "stream",
     "text": [
      "accuracy mean: 0.717\n",
      "accuracy std: 0.017\n",
      "\n",
      "\n",
      "precision mean: 0.722\n",
      "presicion std: 0.024\n",
      "\n",
      "\n",
      "recall mean: 0.709\n",
      "recall std: 0.009\n",
      "\n"
     ]
    }
   ],
   "source": [
    "# Aplicando a técnica k-fold\n",
    "\n",
    "modelo_balanced_new = GradientBoostingClassifier(n_estimators = 100, learning_rate = 1.0, \n",
    "                                             max_depth = 1, random_state = 0)\n",
    "\n",
    "np.random.seed(0)\n",
    "scores_accuracy = cross_val_score(modelo_balanced_new, X_train_balanced, y_train_balanced, \n",
    "                                  scoring=\"accuracy\")\n",
    "scores_precision = cross_val_score(modelo_balanced_new, X_train_balanced, y_train_balanced, \n",
    "                                   scoring=\"precision\")\n",
    "scores_recall = cross_val_score(modelo_balanced_new, X_train_balanced, y_train_balanced, \n",
    "                                scoring=\"recall\")\n",
    "\n",
    "print(\"accuracy mean: %0.3f\\naccuracy std: %0.3f\\n\\n\" %(scores_accuracy.mean(), scores_accuracy.std()))\n",
    "print(\"precision mean: %0.3f\\npresicion std: %0.3f\\n\\n\" %(scores_precision.mean(), scores_precision.std()))\n",
    "print(\"recall mean: %0.3f\\nrecall std: %0.3f\\n\" %(scores_recall.mean(), scores_recall.std()))"
   ]
  },
  {
   "cell_type": "markdown",
   "metadata": {},
   "source": [
    "## Ajuste de Variáveis\n",
    "\n",
    "A performance do modelo após o balanceamento dos dados de aproximadamente 0.7 para as métricas de acurácia, precisão e recall. Escolhemos fazer alguns ajustes de parãmetros para melhorar a performance do modelo Gradient Boosting. Usamos como referência o seguinte site:\n",
    "\n",
    "https://www.analyticsvidhya.com/blog/2016/02/complete-guide-parameter-tuning-gradient-boosting-gbm-python/"
   ]
  },
  {
   "cell_type": "code",
   "execution_count": 48,
   "metadata": {},
   "outputs": [
    {
     "data": {
      "text/plain": [
       "GridSearchCV(cv=5,\n",
       "             estimator=GradientBoostingClassifier(learning_rate=0.2,\n",
       "                                                  max_depth=7,\n",
       "                                                  max_features='sqrt',\n",
       "                                                  min_samples_leaf=100,\n",
       "                                                  min_samples_split=700,\n",
       "                                                  random_state=0,\n",
       "                                                  subsample=0.8),\n",
       "             iid=False, n_jobs=4, param_grid={'n_estimators': [100, 200]},\n",
       "             scoring='roc_auc')"
      ]
     },
     "execution_count": 48,
     "metadata": {},
     "output_type": "execute_result"
    }
   ],
   "source": [
    "# Ajuste de Parâmetros (n_estimators)\n",
    "# Primeiro foi feito um ajuste com n_estimators variando de 20 a 80\n",
    "# Como o best_estimator foi 80, tentamos com valores mais altos (80 até 100 de 10 em 10) e \n",
    "# obtivemos o melhor estimator igual a 100\n",
    "from sklearn.model_selection import GridSearchCV\n",
    "\n",
    "param_grid = {'n_estimators':[100, 200]}\n",
    "\n",
    "rf = GradientBoostingClassifier(learning_rate=0.2, min_samples_split=700,\n",
    "                                            min_samples_leaf=100,max_depth=7,max_features='sqrt',\n",
    "                                            subsample=0.8,random_state=0)\n",
    "\n",
    "search1 = GridSearchCV(rf, param_grid, scoring='roc_auc',n_jobs=4,iid=False, cv=5)\n",
    "\n",
    "search1.fit(X_train_balanced, y_train_balanced)"
   ]
  },
  {
   "cell_type": "code",
   "execution_count": 49,
   "metadata": {},
   "outputs": [
    {
     "data": {
      "text/plain": [
       "({'n_estimators': 200}, 0.8055471162427794, 1)"
      ]
     },
     "execution_count": 49,
     "metadata": {},
     "output_type": "execute_result"
    }
   ],
   "source": [
    "# Resultado dos testes\n",
    "search1.best_params_, search1.best_score_, search1.best_index_"
   ]
  },
  {
   "cell_type": "code",
   "execution_count": 50,
   "metadata": {},
   "outputs": [
    {
     "data": {
      "text/plain": [
       "GridSearchCV(cv=5,\n",
       "             estimator=GradientBoostingClassifier(learning_rate=0.2,\n",
       "                                                  max_depth=7,\n",
       "                                                  max_features='sqrt',\n",
       "                                                  min_samples_leaf=100,\n",
       "                                                  min_samples_split=700,\n",
       "                                                  n_estimators=200,\n",
       "                                                  random_state=0,\n",
       "                                                  subsample=0.8),\n",
       "             iid=False, n_jobs=4,\n",
       "             param_grid={'max_depth': range(5, 16, 5),\n",
       "                         'min_samples_split': range(200, 1001, 400)},\n",
       "             scoring='roc_auc')"
      ]
     },
     "execution_count": 50,
     "metadata": {},
     "output_type": "execute_result"
    }
   ],
   "source": [
    "# Ajustando max_depth e min_samples_split\n",
    "param_test2 = {'max_depth':range(5,16,5), 'min_samples_split':range(200,1001,400)}\n",
    "\n",
    "gbc = GradientBoostingClassifier(learning_rate=0.2, min_samples_split=700,\n",
    "                                            min_samples_leaf=100,max_depth=7,max_features='sqrt',\n",
    "                                            subsample=0.8,random_state=0, n_estimators=200)\n",
    "\n",
    "search2 = GridSearchCV(gbc, param_test2, scoring='roc_auc',n_jobs=4,iid=False, cv=5)\n",
    "\n",
    "search2.fit(X_train_balanced, y_train_balanced)"
   ]
  },
  {
   "cell_type": "code",
   "execution_count": 51,
   "metadata": {},
   "outputs": [
    {
     "data": {
      "text/plain": [
       "({'max_depth': 15, 'min_samples_split': 200}, 0.8329392333617541, 6)"
      ]
     },
     "execution_count": 51,
     "metadata": {},
     "output_type": "execute_result"
    }
   ],
   "source": [
    "# Resultado dos testes\n",
    "search2.best_params_, search2.best_score_, search2.best_index_"
   ]
  },
  {
   "cell_type": "code",
   "execution_count": 52,
   "metadata": {},
   "outputs": [
    {
     "data": {
      "text/plain": [
       "0.727380260645804"
      ]
     },
     "execution_count": 52,
     "metadata": {},
     "output_type": "execute_result"
    }
   ],
   "source": [
    "# Criando novos modelos com os dados balanceados\n",
    "\n",
    "# Treinando modelos de machine learning (Adaboost)\n",
    "from sklearn.ensemble import GradientBoostingClassifier\n",
    "\n",
    "# Criando o objeto Gradient Boosting \n",
    "modelo_balanced_tunning_1 = GradientBoostingClassifier(learning_rate=0.2, min_samples_split=200,\n",
    "                                            min_samples_leaf=100,max_depth=15,max_features='sqrt',\n",
    "                                            subsample=0.8,random_state=0, n_estimators=200)\n",
    "\n",
    "# Treinando o modelo com dados de treino \n",
    "modelo_balanced_tunning_1 = modelo_balanced_tunning_1.fit(X_train_balanced, y_train_balanced)"
   ]
  },
  {
   "cell_type": "code",
   "execution_count": 53,
   "metadata": {},
   "outputs": [
    {
     "data": {
      "text/plain": [
       "0.9411056694612767"
      ]
     },
     "execution_count": 53,
     "metadata": {},
     "output_type": "execute_result"
    }
   ],
   "source": [
    "# score\n",
    "modelo_balanced_tunning_1.score(X_test_balanc, y_test_balanc)"
   ]
  },
  {
   "cell_type": "code",
   "execution_count": 54,
   "metadata": {},
   "outputs": [
    {
     "name": "stdout",
     "output_type": "stream",
     "text": [
      "accuracy: 0.94111 \n",
      "precision: 0.91865 \n",
      "recall: 0.96852\n",
      "roc: 0.94098\n"
     ]
    }
   ],
   "source": [
    "# Métricas\n",
    "y_pred_balanc = modelo_balanced_tunning_1.predict(X_test_balanc)\n",
    "\n",
    "accuracy = accuracy_score(y_test_balanc, y_pred_balanc)\n",
    "\n",
    "precision = precision_score(y_test_balanc, y_pred_balanc)\n",
    "\n",
    "recall = recall_score(y_test_balanc, y_pred_balanc)\n",
    "\n",
    "roc = roc_auc_score(y_test_balanc, y_pred_balanc)\n",
    "\n",
    "print(\"accuracy: %0.5f \\nprecision: %0.5f \\nrecall: %0.5f\\nroc: %0.5f\" %(accuracy, precision, recall, roc))"
   ]
  },
  {
   "cell_type": "code",
   "execution_count": 55,
   "metadata": {},
   "outputs": [
    {
     "name": "stdout",
     "output_type": "stream",
     "text": [
      "              precision    recall  f1-score   support\n",
      "\n",
      "           0       0.97      0.91      0.94     23984\n",
      "           1       0.92      0.97      0.94     24204\n",
      "\n",
      "    accuracy                           0.94     48188\n",
      "   macro avg       0.94      0.94      0.94     48188\n",
      "weighted avg       0.94      0.94      0.94     48188\n",
      "\n"
     ]
    }
   ],
   "source": [
    "# Métricas de classificação\n",
    "from sklearn.metrics import classification_report\n",
    "\n",
    "print(classification_report(y_test_balanc, y_pred_balanc))"
   ]
  },
  {
   "cell_type": "code",
   "execution_count": 56,
   "metadata": {},
   "outputs": [
    {
     "name": "stdout",
     "output_type": "stream",
     "text": [
      "Predito      0      1    All\n",
      "Real                        \n",
      "0        21908   2076  23984\n",
      "1          762  23442  24204\n",
      "All      22670  25518  48188\n"
     ]
    }
   ],
   "source": [
    "# Cross Table\n",
    "print (pd.crosstab(y_test_balanc, y_pred_balanc, rownames=['Real'], colnames=['Predito'], margins=True))"
   ]
  },
  {
   "cell_type": "code",
   "execution_count": 58,
   "metadata": {},
   "outputs": [
    {
     "data": {
      "text/plain": [
       "<sklearn.metrics._plot.confusion_matrix.ConfusionMatrixDisplay at 0x7fbd2bb445d0>"
      ]
     },
     "execution_count": 58,
     "metadata": {},
     "output_type": "execute_result"
    },
    {
     "data": {
      "image/png": "[encoded data removed]",
      "text/plain": [
       "<Figure size 432x288 with 2 Axes>"
      ]
     },
     "metadata": {
      "needs_background": "light"
     },
     "output_type": "display_data"
    }
   ],
   "source": [
    "# Matriz de confusão\n",
    "from sklearn.metrics import plot_confusion_matrix\n",
    "\n",
    "plot_confusion_matrix(modelo_balanced_tunning_1, X_train_balanc, y_train_balanc)"
   ]
  }
 ],
 "metadata": {
  "kernelspec": {
   "display_name": "Python 3",
   "language": "python",
   "name": "python3"
  },
  "language_info": {
   "codemirror_mode": {
    "name": "ipython",
    "version": 3
   },
   "file_extension": ".py",
   "mimetype": "text/x-python",
   "name": "python",
   "nbconvert_exporter": "python",
   "pygments_lexer": "ipython3",
   "version": "3.7.9"
  }
 },
 "nbformat": 4,
 "nbformat_minor": 2
}
